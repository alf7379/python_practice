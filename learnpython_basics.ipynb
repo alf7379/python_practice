{
 "cells": [
  {
   "cell_type": "markdown",
   "metadata": {},
   "source": [
    "### Practicing Python - learnpython.org  "
   ]
  },
  {
   "cell_type": "markdown",
   "metadata": {},
   "source": [
    "#### Basics"
   ]
  },
  {
   "cell_type": "code",
   "execution_count": null,
   "metadata": {
    "scrolled": true
   },
   "outputs": [],
   "source": [
    "# Hellor, World!\n",
    "print('Hello, Wolrd!')"
   ]
  },
  {
   "cell_type": "code",
   "execution_count": null,
   "metadata": {},
   "outputs": [],
   "source": [
    "## Variables and Types\n",
    "\n",
    "# - Numbers: Python supports two types (integers and floating point number)\n",
    "myint = 7\n",
    "print(myint)\n",
    "myfloat = 7.0\n",
    "print(myfloat)\n",
    "print(float(myint))\n",
    "\n",
    "# - Strings\n",
    "one = 'Hello' # or \"hello\" (with \" it is easy to include apostrophes)\n",
    "two = \"World!\"\n",
    "print(one + \", \" + two + str(myfloat))\n",
    "print(\"String with number %f from float\" % myfloat)\n",
    "print(str(type(myfloat)))\n",
    "# "
   ]
  },
  {
   "cell_type": "code",
   "execution_count": null,
   "metadata": {},
   "outputs": [],
   "source": [
    "# Lists (similar to arrays)\n",
    "mylist = [0, 1, 3]\n",
    "mylist.append(1)\n",
    "mylist.append(2)\n",
    "mylist.append(3)\n",
    "print(mylist)\n",
    "for i in mylist:\n",
    "    print(i)"
   ]
  },
  {
   "cell_type": "code",
   "execution_count": null,
   "metadata": {},
   "outputs": [],
   "source": [
    "# Basic operations\n",
    "number = 1 + 2 * 3 / 4.0\n",
    "print(number)\n",
    "print(13%5)\n",
    "print(2**8)"
   ]
  },
  {
   "cell_type": "code",
   "execution_count": null,
   "metadata": {},
   "outputs": [],
   "source": [
    "# String formatting\n",
    "# %s = string; %d = int; %f = float\n",
    "name = \"Alex\"\n",
    "age = 26\n",
    "print(\"%s tiene %d anos\" % (name, age))"
   ]
  },
  {
   "cell_type": "code",
   "execution_count": null,
   "metadata": {},
   "outputs": [],
   "source": [
    "# Basic string operations\n",
    "astring = \"Hello world!\"\n",
    "print(len(astring))\n",
    "print(astring.index(\"o\"))\n",
    "print(astring[3:7:1])  # [start:stop:stepsize]\n",
    "print(astring[::-1])   # reverse string\n",
    "print(astring.upper())\n",
    "print(astring.lower())\n",
    "print(astring.startswith(\"Hello\"))\n",
    "print(astring.endswith(\"asdfasdfasdf\"))\n",
    "print(astring.count('l'))\n",
    "split = astring.split(\" \")\n",
    "print(split)"
   ]
  },
  {
   "cell_type": "code",
   "execution_count": null,
   "metadata": {},
   "outputs": [],
   "source": [
    "# Conditions\n",
    "name = \"John\"\n",
    "if name in [\"John\", \"Rick\"]:\n",
    "    print(\"The name is either Rick or John\")"
   ]
  },
  {
   "cell_type": "code",
   "execution_count": null,
   "metadata": {},
   "outputs": [],
   "source": [
    "# Loops\n",
    "primes = [2, 3, 5, 7, 11, 13, 17, 19, 23]\n",
    "for prime in primes:\n",
    "    print (prime)\n",
    "for i in range(2, 7, 2): # range(start, end, stepsize)\n",
    "    print(i)\n",
    "    \n",
    "count = 0\n",
    "while count < 5:\n",
    "    print(count)\n",
    "    count += 1\n",
    "    \n",
    "\n",
    "# else in loops\n",
    "print(\"\\n\")\n",
    "count = 0\n",
    "while count < 5:\n",
    "    print(count)\n",
    "    count +=1\n",
    "else:\n",
    "    print(\"End of while\")"
   ]
  },
  {
   "cell_type": "code",
   "execution_count": null,
   "metadata": {},
   "outputs": [],
   "source": [
    "# Functions\n",
    "def my_function(username, greeting):\n",
    "    print(\"Hello, %s, From My Function!, %s\" %(username, greeting))\n",
    "    \n",
    "my_function(\"Alex\", \"HOLA\")"
   ]
  },
  {
   "cell_type": "code",
   "execution_count": null,
   "metadata": {},
   "outputs": [],
   "source": [
    "# Classes and Objects\n",
    "\n",
    "class MyClass:\n",
    "    variable = \"blah\"\n",
    "\n",
    "    def function(self):\n",
    "        print(\"This is a message inside the class.\")\n",
    "        \n",
    "myobject = MyClass()\n",
    "myobject.function()\n",
    "print(myobject.variable)"
   ]
  },
  {
   "cell_type": "code",
   "execution_count": null,
   "metadata": {},
   "outputs": [],
   "source": [
    "# Dictionaries\n",
    "phonebook = {}\n",
    "phonebook[\"John\"] = 89328\n",
    "phonebook[\"Jim\"] = 10\n",
    "print(phonebook)\n",
    "\n",
    "addresses = {\n",
    "    \"Alex\" : \"Berger Str. 5\",\n",
    "    \"Jim\" : \"Kaulbach Str 29a\",\n",
    "    \"Dani\": \"Mitterfeldweg 21\",\n",
    "    \"XY\" : \"XX Straße N\",\n",
    "}\n",
    "print(people)\n",
    "\n",
    "if \"Jim\" in addresses:\n",
    "    print(people[\"Jim\"])\n",
    "    \n",
    "for name, address in addresses.items():\n",
    "    print(\"The address of %s is %s\" % (name, address))\n",
    "    \n",
    "del addresses[\"XY\"]\n",
    "# addresses.pop[\"XY\"]"
   ]
  },
  {
   "cell_type": "code",
   "execution_count": null,
   "metadata": {},
   "outputs": [],
   "source": [
    "import urllib\n",
    "dir(urllib)\n",
    "help(urllib.parse)"
   ]
  },
  {
   "cell_type": "code",
   "execution_count": null,
   "metadata": {},
   "outputs": [],
   "source": []
  }
 ],
 "metadata": {
  "kernelspec": {
   "display_name": "Python 3",
   "language": "python",
   "name": "python3"
  },
  "language_info": {
   "codemirror_mode": {
    "name": "ipython",
    "version": 3
   },
   "file_extension": ".py",
   "mimetype": "text/x-python",
   "name": "python",
   "nbconvert_exporter": "python",
   "pygments_lexer": "ipython3",
   "version": "3.7.3"
  }
 },
 "nbformat": 4,
 "nbformat_minor": 2
}
