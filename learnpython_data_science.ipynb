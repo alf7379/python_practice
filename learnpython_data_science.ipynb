{
 "cells": [
  {
   "cell_type": "markdown",
   "metadata": {},
   "source": [
    "# Basic Python for Data Science\n",
    "\n",
    "### Numpy Arrays"
   ]
  },
  {
   "cell_type": "code",
   "execution_count": null,
   "metadata": {},
   "outputs": [],
   "source": [
    "# Create 2 new lists height and weight\n",
    "height = [1.87,  1.87, 1.82, 1.91, 1.90, 1.85]\n",
    "weight = [81.65, 97.52, 95.25, 92.98, 86.18, 88.45]\n",
    "\n",
    "# Import the numpy package as np\n",
    "import numpy as np\n",
    "\n",
    "# Create 2 numpy arrays from height and weight\n",
    "np_height = np.array(height)\n",
    "np_weight = np.array(weight)\n",
    "\n",
    "print(type(np_height))"
   ]
  },
  {
   "cell_type": "code",
   "execution_count": null,
   "metadata": {},
   "outputs": [],
   "source": [
    "# Element-wise calculations\n",
    "bmi = np_weight / np_height ** 2\n",
    "print(bmi)"
   ]
  },
  {
   "cell_type": "code",
   "execution_count": null,
   "metadata": {},
   "outputs": [],
   "source": [
    "# Subsetting\n",
    "bmi[bmi > 25]"
   ]
  },
  {
   "cell_type": "markdown",
   "metadata": {},
   "source": [
    "### Pandas DataFrames\n",
    "\n",
    "built on the Numpy package"
   ]
  },
  {
   "cell_type": "code",
   "execution_count": null,
   "metadata": {},
   "outputs": [],
   "source": [
    "dict = {\"country\": [\"Brazil\", \"Russia\", \"India\", \"China\", \"South Africa\"],\n",
    "       \"capital\": [\"Brasilia\", \"Moscow\", \"New Dehli\", \"Beijing\", \"Pretoria\"],\n",
    "       \"area\": [8.516, 17.10, 3.286, 9.597, 1.221],\n",
    "       \"population\": [200.4, 143.5, 1252, 1357, 52.98] }\n",
    "\n",
    "import pandas as pd\n",
    "brics = pd.DataFrame(dict)\n",
    "print(brics)"
   ]
  },
  {
   "cell_type": "code",
   "execution_count": null,
   "metadata": {},
   "outputs": [],
   "source": [
    "# Rename Index - set the index for brics\n",
    "brics.index = [\"BR\", \"RU\", \"IN\", \"CH\", \"SA\"]\n",
    "\n",
    "# Print out brics with new index values\n",
    "print(brics)"
   ]
  },
  {
   "cell_type": "code",
   "execution_count": null,
   "metadata": {},
   "outputs": [],
   "source": [
    "# easy import of csv files \n",
    "# cars = pd.read_csv('cars.csv') "
   ]
  },
  {
   "cell_type": "code",
   "execution_count": null,
   "metadata": {},
   "outputs": [],
   "source": [
    "# Indexing DataFrames\n",
    "\n",
    "# ROWs\n",
    "print(\"\\n Index by row.\")\n",
    "# Print out country column as Pandas Series\n",
    "print(brics['country'])\n",
    "# Print out country column as Pandas DataFrame\n",
    "print(brics[['country']])\n",
    "# Print out DataFrame with country and drives_right columns\n",
    "print(brics[['country', 'capital']])\n",
    "\n",
    "# COLUMNs\n",
    "print(\"\\n Index by row.\")\n",
    "print(brics[0:3])\n",
    "\n",
    "# loc and iloc\n",
    "print(\"\\n Index by loc and iloc.\")\n",
    "print(brics.iloc[2])\n",
    "print(brics.loc[['BR', 'RU']])"
   ]
  }
 ],
 "metadata": {
  "kernelspec": {
   "display_name": "Python 3",
   "language": "python",
   "name": "python3"
  },
  "language_info": {
   "codemirror_mode": {
    "name": "ipython",
    "version": 3
   },
   "file_extension": ".py",
   "mimetype": "text/x-python",
   "name": "python",
   "nbconvert_exporter": "python",
   "pygments_lexer": "ipython3",
   "version": "3.7.3"
  }
 },
 "nbformat": 4,
 "nbformat_minor": 2
}
